{
  "nbformat": 4,
  "nbformat_minor": 0,
  "metadata": {
    "colab": {
      "provenance": [],
      "include_colab_link": true
    },
    "kernelspec": {
      "name": "python3",
      "display_name": "Python 3"
    },
    "language_info": {
      "name": "python"
    }
  },
  "cells": [
    {
      "cell_type": "markdown",
      "metadata": {
        "id": "view-in-github",
        "colab_type": "text"
      },
      "source": [
        "<a href=\"https://colab.research.google.com/github/JCobz0714/Entrega-1-Analisis-De-Algoritmos/blob/main/Entrega1.ipynb\" target=\"_parent\"><img src=\"https://colab.research.google.com/assets/colab-badge.svg\" alt=\"Open In Colab\"/></a>"
      ]
    },
    {
      "cell_type": "code",
      "source": [
        "# Limpiamos\n",
        "!rm -f *.o _hmm.so hmm.py hmm_wrap.cxx"
      ],
      "metadata": {
        "id": "2YSMP0qM272U"
      },
      "execution_count": 6,
      "outputs": []
    },
    {
      "cell_type": "code",
      "execution_count": 7,
      "metadata": {
        "colab": {
          "base_uri": "https://localhost:8080/"
        },
        "collapsed": true,
        "id": "VeNsIcgBcDD5",
        "outputId": "df1dc573-a1b1-4ada-94da-6335e139b1c7"
      },
      "outputs": [
        {
          "output_type": "stream",
          "name": "stdout",
          "text": [
            "Reading package lists... Done\n",
            "Building dependency tree... Done\n",
            "Reading state information... Done\n",
            "The following additional packages will be installed:\n",
            "  swig4.0\n",
            "Suggested packages:\n",
            "  swig-doc swig-examples swig4.0-examples swig4.0-doc\n",
            "The following NEW packages will be installed:\n",
            "  swig swig4.0\n",
            "0 upgraded, 2 newly installed, 0 to remove and 35 not upgraded.\n",
            "Need to get 1,116 kB of archives.\n",
            "After this operation, 5,542 kB of additional disk space will be used.\n",
            "Get:1 http://archive.ubuntu.com/ubuntu jammy/universe amd64 swig4.0 amd64 4.0.2-1ubuntu1 [1,110 kB]\n",
            "Get:2 http://archive.ubuntu.com/ubuntu jammy/universe amd64 swig all 4.0.2-1ubuntu1 [5,632 B]\n",
            "Fetched 1,116 kB in 1s (1,236 kB/s)\n",
            "Selecting previously unselected package swig4.0.\n",
            "(Reading database ... 126435 files and directories currently installed.)\n",
            "Preparing to unpack .../swig4.0_4.0.2-1ubuntu1_amd64.deb ...\n",
            "Unpacking swig4.0 (4.0.2-1ubuntu1) ...\n",
            "Selecting previously unselected package swig.\n",
            "Preparing to unpack .../swig_4.0.2-1ubuntu1_all.deb ...\n",
            "Unpacking swig (4.0.2-1ubuntu1) ...\n",
            "Setting up swig4.0 (4.0.2-1ubuntu1) ...\n",
            "Setting up swig (4.0.2-1ubuntu1) ...\n",
            "Processing triggers for man-db (2.10.2-1) ...\n",
            "Get:1 https://cli.github.com/packages stable InRelease [3,917 B]\n",
            "Hit:2 https://developer.download.nvidia.com/compute/cuda/repos/ubuntu2204/x86_64  InRelease\n",
            "Get:3 https://cloud.r-project.org/bin/linux/ubuntu jammy-cran40/ InRelease [3,632 B]\n",
            "Hit:4 http://archive.ubuntu.com/ubuntu jammy InRelease\n",
            "Get:5 http://security.ubuntu.com/ubuntu jammy-security InRelease [129 kB]\n",
            "Get:6 https://r2u.stat.illinois.edu/ubuntu jammy InRelease [6,555 B]\n",
            "Get:7 https://cli.github.com/packages stable/main amd64 Packages [346 B]\n",
            "Get:8 http://archive.ubuntu.com/ubuntu jammy-updates InRelease [128 kB]\n",
            "Hit:9 https://ppa.launchpadcontent.net/deadsnakes/ppa/ubuntu jammy InRelease\n",
            "Hit:10 https://ppa.launchpadcontent.net/graphics-drivers/ppa/ubuntu jammy InRelease\n",
            "Hit:11 https://ppa.launchpadcontent.net/ubuntugis/ppa/ubuntu jammy InRelease\n",
            "Get:12 http://archive.ubuntu.com/ubuntu jammy-backports InRelease [127 kB]\n",
            "Get:13 https://r2u.stat.illinois.edu/ubuntu jammy/main all Packages [9,299 kB]\n",
            "Get:14 http://security.ubuntu.com/ubuntu jammy-security/main amd64 Packages [3,336 kB]\n",
            "Get:15 https://r2u.stat.illinois.edu/ubuntu jammy/main amd64 Packages [2,807 kB]\n",
            "Get:16 http://archive.ubuntu.com/ubuntu jammy-updates/main amd64 Packages [3,681 kB]\n",
            "Get:17 http://security.ubuntu.com/ubuntu jammy-security/universe amd64 Packages [1,274 kB]\n",
            "Get:18 http://security.ubuntu.com/ubuntu jammy-security/restricted amd64 Packages [5,526 kB]\n",
            "Get:19 http://archive.ubuntu.com/ubuntu jammy-updates/universe amd64 Packages [1,577 kB]\n",
            "Get:20 http://archive.ubuntu.com/ubuntu jammy-updates/restricted amd64 Packages [5,779 kB]\n",
            "Fetched 33.7 MB in 4s (9,571 kB/s)\n",
            "Reading package lists... Done\n",
            "W: Skipping acquire of configured file 'main/source/Sources' as repository 'https://r2u.stat.illinois.edu/ubuntu jammy InRelease' does not seem to provide it (sources.list entry misspelt?)\n",
            "Reading package lists... Done\n",
            "Building dependency tree... Done\n",
            "Reading state information... Done\n",
            "g++ is already the newest version (4:11.2.0-1ubuntu1).\n",
            "g++ set to manually installed.\n",
            "swig is already the newest version (4.0.2-1ubuntu1).\n",
            "0 upgraded, 0 newly installed, 0 to remove and 43 not upgraded.\n"
          ]
        }
      ],
      "source": [
        "# Instalamos la libreía SWIG\n",
        "!apt-get install swig\n",
        "!apt-get update\n",
        "!apt-get install -y swig g++\n",
        "\n",
        "\n"
      ]
    },
    {
      "cell_type": "code",
      "source": [
        "## Aquí creamos y escribimos en el archivo hmmm.h\n",
        "## Luego, declaramos las funciones de la librería.\n",
        "%%writefile hmm.h\n",
        "#include <vector>\n",
        "\n",
        "// Declaraciones de funciones que expondrá la librería\n",
        "double evaluar(const std::vector<int>& secuencia);\n",
        "std::vector<int> reconocer(const std::vector<int>& secuencia);\n"
      ],
      "metadata": {
        "colab": {
          "base_uri": "https://localhost:8080/"
        },
        "id": "Z60wTCBo0IsA",
        "outputId": "6abd4b51-7c46-4e70-c869-fab696cf23d6"
      },
      "execution_count": 8,
      "outputs": [
        {
          "output_type": "stream",
          "name": "stdout",
          "text": [
            "Overwriting hmm.h\n"
          ]
        }
      ]
    },
    {
      "cell_type": "code",
      "source": [
        "## Aquí creamos y escribimos en el archivo hmm.cpp\n",
        "%%writefile hmm.cpp\n",
        "#include \"hmm.h\"\n",
        "#include <vector>\n",
        "#include <cmath>\n",
        "#include <limits>\n",
        "\n",
        "// ======================================================\n",
        "// Modelo fijo del ejemplo (2 estados: H=0, L=1; 4 símbolos: A=0, C=1, G=2, T=3)\n",
        "// ======================================================\n",
        "static const int N_STATES = 2;\n",
        "static const int ALPHABET = 4;\n",
        "\n",
        "static const double PI[N_STATES] = {0.5, 0.5}; // inicial\n",
        "static const double A[N_STATES][N_STATES] = {\n",
        "    {0.5, 0.5}, // desde H\n",
        "    {0.4, 0.6}  // desde L\n",
        "};\n",
        "static const double B[N_STATES][ALPHABET] = {\n",
        "    {0.2, 0.3, 0.3, 0.2}, // H: emisiones A,C,G,T\n",
        "    {0.3, 0.2, 0.2, 0.3}  // L: emisiones A,C,G,T\n",
        "};\n",
        "\n",
        "// ======================================================\n",
        "// FUNCION EVALUAR: Algoritmo Forward\n",
        "// ======================================================\n",
        "double evaluar(const std::vector<int>& secuencia) {\n",
        "    int T = (int)secuencia.size();\n",
        "    if (T == 0) return 0.0;\n",
        "\n",
        "    std::vector<std::vector<double>> alpha(T, std::vector<double>(N_STATES));\n",
        "\n",
        "    // Inicialización\n",
        "    int o0 = secuencia[0];\n",
        "    for (int j = 0; j < N_STATES; ++j) {\n",
        "        alpha[0][j] = std::log(PI[j]) + std::log(B[j][o0]);\n",
        "    }\n",
        "\n",
        "    // Recursión\n",
        "    for (int t = 1; t < T; ++t) {\n",
        "        int ot = secuencia[t];\n",
        "        for (int j = 0; j < N_STATES; ++j) {\n",
        "            double maxVal = -std::numeric_limits<double>::infinity();\n",
        "            for (int i = 0; i < N_STATES; ++i) {\n",
        "                double val = alpha[t-1][i] + std::log(A[i][j]);\n",
        "                if (val > maxVal) maxVal = val;\n",
        "            }\n",
        "            double sumExp = 0.0;\n",
        "            for (int i = 0; i < N_STATES; ++i) {\n",
        "                double val = alpha[t-1][i] + std::log(A[i][j]);\n",
        "                sumExp += std::exp(val - maxVal);\n",
        "            }\n",
        "            alpha[t][j] = maxVal + std::log(sumExp) + std::log(B[j][ot]);\n",
        "        }\n",
        "    }\n",
        "\n",
        "    // Terminación\n",
        "    double maxFinal = -std::numeric_limits<double>::infinity();\n",
        "    for (int j = 0; j < N_STATES; ++j) {\n",
        "        if (alpha[T-1][j] > maxFinal) maxFinal = alpha[T-1][j];\n",
        "    }\n",
        "    double sumExp = 0.0;\n",
        "    for (int j = 0; j < N_STATES; ++j) {\n",
        "        sumExp += std::exp(alpha[T-1][j] - maxFinal);\n",
        "    }\n",
        "    double logP = maxFinal + std::log(sumExp);\n",
        "\n",
        "    return std::exp(logP); // probabilidad normal\n",
        "}\n",
        "\n",
        "// ======================================================\n",
        "// FUNCION RECONOCER: Algoritmo Viterbi\n",
        "// ======================================================\n",
        "std::vector<int> reconocer(const std::vector<int>& secuencia) {\n",
        "    int T = (int)secuencia.size();\n",
        "    if (T == 0) return {};\n",
        "\n",
        "    std::vector<std::vector<double>> delta(T, std::vector<double>(N_STATES));\n",
        "    std::vector<std::vector<int>> psi(T, std::vector<int>(N_STATES));\n",
        "\n",
        "    // Inicialización\n",
        "    int o0 = secuencia[0];\n",
        "    for (int j = 0; j < N_STATES; ++j) {\n",
        "        delta[0][j] = std::log(PI[j]) + std::log(B[j][o0]);\n",
        "        psi[0][j] = 0;\n",
        "    }\n",
        "\n",
        "    // Recursión\n",
        "    for (int t = 1; t < T; ++t) {\n",
        "        int ot = secuencia[t];\n",
        "        for (int j = 0; j < N_STATES; ++j) {\n",
        "            double bestVal = -std::numeric_limits<double>::infinity();\n",
        "            int bestState = 0;\n",
        "            for (int i = 0; i < N_STATES; ++i) {\n",
        "                double val = delta[t-1][i] + std::log(A[i][j]);\n",
        "                if (val > bestVal) {\n",
        "                    bestVal = val;\n",
        "                    bestState = i;\n",
        "                }\n",
        "            }\n",
        "            delta[t][j] = bestVal + std::log(B[j][ot]);\n",
        "            psi[t][j] = bestState;\n",
        "        }\n",
        "    }\n",
        "\n",
        "    // Terminación\n",
        "    double bestFinal = -std::numeric_limits<double>::infinity();\n",
        "    int lastState = 0;\n",
        "    for (int j = 0; j < N_STATES; ++j) {\n",
        "        if (delta[T-1][j] > bestFinal) {\n",
        "            bestFinal = delta[T-1][j];\n",
        "            lastState = j;\n",
        "        }\n",
        "    }\n",
        "\n",
        "    // Backtracking\n",
        "    std::vector<int> path(T);\n",
        "    path[T-1] = lastState;\n",
        "    for (int t = T-2; t >= 0; --t) {\n",
        "        path[t] = psi[t+1][path[t+1]];\n",
        "    }\n",
        "\n",
        "    return path;\n",
        "}\n"
      ],
      "metadata": {
        "colab": {
          "base_uri": "https://localhost:8080/"
        },
        "id": "f2sqGkMV07KK",
        "outputId": "21bb5e55-1feb-46ab-ed58-4227b2fda5ff"
      },
      "execution_count": 9,
      "outputs": [
        {
          "output_type": "stream",
          "name": "stdout",
          "text": [
            "Overwriting hmm.cpp\n"
          ]
        }
      ]
    },
    {
      "cell_type": "code",
      "source": [
        "%%writefile hmm.i\n",
        "%module hmm\n",
        "%{\n",
        "#include \"hmm.h\"\n",
        "%}\n",
        "\n",
        "%include \"std_vector.i\"\n",
        "namespace std {\n",
        "    %template(IntVector) vector<int>;\n",
        "}\n",
        "\n",
        "extern double evaluar(const std::vector<int>& secuencia);\n",
        "extern std::vector<int> reconocer(const std::vector<int>& secuencia);\n"
      ],
      "metadata": {
        "colab": {
          "base_uri": "https://localhost:8080/"
        },
        "id": "mRHMWQR71jb8",
        "outputId": "25ad17f2-d3d6-4fef-eb71-7c01abbbecd7"
      },
      "execution_count": 10,
      "outputs": [
        {
          "output_type": "stream",
          "name": "stdout",
          "text": [
            "Overwriting hmm.i\n"
          ]
        }
      ]
    },
    {
      "cell_type": "code",
      "source": [
        "# Compilamos\n",
        "!rm -f *.o _hmm.so hmm.py hmm_wrap.cxx\n",
        "!swig -c++ -python hmm.i\n",
        "!g++ -fPIC -c hmm.cpp hmm_wrap.cxx -I/usr/include/python3.10\n",
        "!g++ -shared hmm.o hmm_wrap.o -o _hmm.so\n"
      ],
      "metadata": {
        "id": "MFJ_6Axh3FAO"
      },
      "execution_count": 11,
      "outputs": []
    },
    {
      "cell_type": "code",
      "source": [
        "import hmm #Importamos el modulo generado por SWIG\n",
        "\n",
        "secuencias = {\n",
        "    \"GGCA\": [2,2,1,0],\n",
        "    \"ACGT\": [0,1,2,3],\n",
        "    \"GGGG\": [2,2,2,2],\n",
        "    \"AAAA\": [0,0,0,0],\n",
        "    \"TGCA\": [3,2,1,0]\n",
        "}\n",
        "\n",
        "for nombre, seq in secuencias.items():\n",
        "    prob = hmm.evaluar(seq)\n",
        "    ruta = hmm.reconocer(seq)\n",
        "    print(f\"Secuencia: {nombre}\")\n",
        "    print(f\"  Probabilidad (Forward): {prob}\")\n",
        "    print(f\"  Ruta más probable (Viterbi): {ruta}\")\n",
        "    print(\"-\"*40)\n"
      ],
      "metadata": {
        "colab": {
          "base_uri": "https://localhost:8080/"
        },
        "id": "PWMdXSGo4c_A",
        "outputId": "fcfa1b32-82e4-4c5a-9893-82064b73a182"
      },
      "execution_count": 12,
      "outputs": [
        {
          "output_type": "stream",
          "name": "stdout",
          "text": [
            "Secuencia: GGCA\n",
            "  Probabilidad (Forward): 0.003843149999999999\n",
            "  Ruta más probable (Viterbi): (0, 0, 0, 1)\n",
            "----------------------------------------\n",
            "Secuencia: ACGT\n",
            "  Probabilidad (Forward): 0.003809100000000002\n",
            "  Ruta más probable (Viterbi): (1, 0, 0, 1)\n",
            "----------------------------------------\n",
            "Secuencia: GGGG\n",
            "  Probabilidad (Forward): 0.0037093499999999975\n",
            "  Ruta más probable (Viterbi): (0, 0, 0, 0)\n",
            "----------------------------------------\n",
            "Secuencia: AAAA\n",
            "  Probabilidad (Forward): 0.004213600000000003\n",
            "  Ruta más probable (Viterbi): (1, 1, 1, 1)\n",
            "----------------------------------------\n",
            "Secuencia: TGCA\n",
            "  Probabilidad (Forward): 0.003809100000000002\n",
            "  Ruta más probable (Viterbi): (1, 0, 0, 1)\n",
            "----------------------------------------\n"
          ]
        }
      ]
    },
    {
      "cell_type": "code",
      "source": [
        "import hmm\n",
        "\n",
        "seq = [2,2,1,0,1,2,1,0]  # GGCA\n",
        "print(\"Probabilidad (Forward):\", hmm.evaluar(seq))\n",
        "print(\"Ruta más probable (Viterbi):\", hmm.reconocer(seq))\n"
      ],
      "metadata": {
        "colab": {
          "base_uri": "https://localhost:8080/"
        },
        "id": "D2pljiDQ2dzS",
        "outputId": "67160d40-06b8-4159-eee8-6803b96f9ee9"
      },
      "execution_count": 13,
      "outputs": [
        {
          "output_type": "stream",
          "name": "stdout",
          "text": [
            "Probabilidad (Forward): 1.435033277100001e-05\n",
            "Ruta más probable (Viterbi): (0, 0, 0, 1, 0, 0, 0, 1)\n"
          ]
        }
      ]
    },
    {
      "cell_type": "code",
      "source": [
        "import matplotlib.pyplot as plt\n",
        "\n",
        "secuencias = {\n",
        "    \"GGCA\": [2,2,1,0],\n",
        "    \"ACGT\": [0,1,2,3],\n",
        "    \"GGGG\": [2,2,2,2],\n",
        "    \"AAAA\": [0,0,0,0],\n",
        "    \"TGCA\": [3,2,1,0]\n",
        "}\n",
        "\n",
        "probs = {name: hmm.evaluar(seq) for name, seq in secuencias.items()}\n",
        "\n",
        "plt.bar(probs.keys(), probs.values())\n",
        "plt.ylabel(\"Probabilidad Forward\")\n",
        "plt.title(\"Comparación de secuencias en el HMM\")\n",
        "plt.show()\n"
      ],
      "metadata": {
        "colab": {
          "base_uri": "https://localhost:8080/",
          "height": 453
        },
        "id": "0U2P4IgS4t2t",
        "outputId": "2449c1bb-b0c4-42be-d735-ea294eda9db2"
      },
      "execution_count": 14,
      "outputs": [
        {
          "output_type": "display_data",
          "data": {
            "text/plain": [
              "<Figure size 640x480 with 1 Axes>"
            ],
            "image/png": "[encoded data removed]"
          },
          "metadata": {}
        }
      ]
    },
    {
      "cell_type": "markdown",
      "source": [],
      "metadata": {
        "id": "pdouFFr6zJAU"
      }
    },
    {
      "cell_type": "code",
      "source": [
        "# Pruebas con secuencias más largas para tu HMM (usa tu módulo hmm ya compilado)\n",
        "import hmm\n",
        "import numpy as np\n",
        "import time\n",
        "import matplotlib.pyplot as plt\n",
        "\n",
        "# Mapas útiles\n",
        "idx2base = {0:'A', 1:'C', 2:'G', 3:'T'}\n",
        "base2idx = {v:k for k,v in idx2base.items()}\n",
        "state2label = {0:'H', 1:'L'}  # 0 = H (codificante), 1 = L (no-codificante)\n",
        "\n",
        "# Función para imprimir secuencia legible y ruta\n",
        "def pretty_print(seq_idx, ruta):\n",
        "    seq_bases = [idx2base[i] for i in seq_idx]\n",
        "    ruta_labels = [state2label[s] for s in ruta]\n",
        "    print(\"Secuencia :\", \"\".join(seq_bases))\n",
        "    print(\"Índices   :\", seq_idx)\n",
        "    print(\"Ruta      :\", ruta_labels)\n",
        "    print()\n",
        "\n",
        "# 1) Secuencias largas definidas (manuales)\n",
        "long_seqs = {\n",
        "    \"long1_12\": [2,2,2,1,1,0,0,2,2,1,0,3],          # mezcla GC y AT\n",
        "    \"long2_15\": [0,0,0,1,0,3,3,2,2,2,1,1,0,0,3],    # bloques\n",
        "    \"long3_20\": [2,2,1,2,2,2,1,0,0,0,1,2,3,2,2,1,0,0,3,3]  # más variada\n",
        "}\n",
        "\n",
        "print(\"=== Resultados para secuencias largas ===\\n\")\n",
        "for name, seq in long_seqs.items():\n",
        "    prob = hmm.evaluar(seq)\n",
        "    ruta = hmm.reconocer(seq)\n",
        "    print(name)\n",
        "    pretty_print(seq, ruta)\n",
        "    print(f\"Probabilidad (Forward): {prob:.10f}\")\n",
        "    print(\"-\"*50)\n",
        "\n",
        "# 2) Generar secuencia aleatoria (con distribución controlable)\n",
        "def random_seq(length, p_A=0.25, p_C=0.25, p_G=0.25, p_T=0.25):\n",
        "    probs = [p_A, p_C, p_G, p_T]\n",
        "    arr = np.random.choice([0,1,2,3], size=length, p=probs)\n",
        "    return arr.tolist()\n",
        "\n",
        "rand_seq = random_seq(30, p_A=0.2, p_C=0.2, p_G=0.4, p_T=0.2)\n",
        "print(\"\\n=== Secuencia aleatoria (30 nt) ===\")\n",
        "pretty_print(rand_seq, hmm.reconocer(rand_seq))\n",
        "print(\"Prob (Forward):\", hmm.evaluar(rand_seq))\n",
        "\n",
        "# 3) Visualizar ruta (plot de estados por posición) para una secuencia cualquiera\n",
        "seq = long_seqs[\"long3_20\"]\n",
        "ruta = hmm.reconocer(seq)\n",
        "bases = [idx2base[i] for i in seq]\n",
        "positions = list(range(1, len(seq)+1))\n",
        "\n",
        "plt.figure(figsize=(10,2.5))\n",
        "plt.plot(positions, ruta, marker='o')          # no fijamos colores\n",
        "plt.yticks([0,1], ['H','L'])\n",
        "plt.xticks(positions, bases)\n",
        "plt.xlabel(\"Posición (base)\")\n",
        "plt.title(\"Ruta Viterbi (H=0 / L=1) — long3_20\")\n",
        "plt.grid(axis='y', linestyle=':', linewidth=0.5)\n",
        "plt.show()\n",
        "\n",
        "# 4) Comparar probabilidades entre varias secuencias (barra)\n",
        "names = list(long_seqs.keys()) + [\"random_30\"]\n",
        "seqs_for_plot = list(long_seqs.values()) + [rand_seq]\n",
        "probs = [hmm.evaluar(s) for s in seqs_for_plot]\n",
        "\n",
        "plt.figure(figsize=(8,4))\n",
        "plt.bar(names, probs)\n",
        "plt.ylabel(\"Probabilidad Forward\")\n",
        "plt.title(\"Comparación de probabilidades para secuencias largas\")\n",
        "plt.show()\n",
        "\n",
        "# 5) Micro-benchmark: tiempo de evaluar() y reconocer() repetidas veces\n",
        "reps = 1000\n",
        "test_seq = rand_seq  # secuencia de 30 nt\n",
        "start = time.perf_counter()\n",
        "for _ in range(reps):\n",
        "    _ = hmm.evaluar(test_seq)\n",
        "t_eval = time.perf_counter() - start\n",
        "\n",
        "start = time.perf_counter()\n",
        "for _ in range(reps):\n",
        "    _ = hmm.reconocer(test_seq)\n",
        "t_vit = time.perf_counter() - start\n",
        "\n",
        "print(\"\\n=== Benchmark (reps = {}) ===\".format(reps))\n",
        "print(f\"Tiempo total evaluar(): {t_eval:.4f} s    (promedio {t_eval/reps*1000:.4f} ms/llamada)\")\n",
        "print(f\"Tiempo total reconocer(): {t_vit:.4f} s   (promedio {t_vit/reps*1000:.4f} ms/llamada)\")\n"
      ],
      "metadata": {
        "colab": {
          "base_uri": "https://localhost:8080/",
          "height": 1000
        },
        "id": "rPDT7gOWDNOQ",
        "outputId": "cd7882c3-0955-49af-dbeb-9f06b15cdd96"
      },
      "execution_count": 15,
      "outputs": [
        {
          "output_type": "stream",
          "name": "stdout",
          "text": [
            "=== Resultados para secuencias largas ===\n",
            "\n",
            "long1_12\n",
            "Secuencia : GGGCCAAGGCAT\n",
            "Índices   : [2, 2, 2, 1, 1, 0, 0, 2, 2, 1, 0, 3]\n",
            "Ruta      : ['H', 'H', 'H', 'H', 'H', 'L', 'L', 'H', 'H', 'H', 'L', 'L']\n",
            "\n",
            "Probabilidad (Forward): 0.0000000569\n",
            "--------------------------------------------------\n",
            "long2_15\n",
            "Secuencia : AAACATTGGGCCAAT\n",
            "Índices   : [0, 0, 0, 1, 0, 3, 3, 2, 2, 2, 1, 1, 0, 0, 3]\n",
            "Ruta      : ['L', 'L', 'L', 'L', 'L', 'L', 'L', 'H', 'H', 'H', 'H', 'H', 'L', 'L', 'L']\n",
            "\n",
            "Probabilidad (Forward): 0.0000000010\n",
            "--------------------------------------------------\n",
            "long3_20\n",
            "Secuencia : GGCGGGCAAACGTGGCAATT\n",
            "Índices   : [2, 2, 1, 2, 2, 2, 1, 0, 0, 0, 1, 2, 3, 2, 2, 1, 0, 0, 3, 3]\n",
            "Ruta      : ['H', 'H', 'H', 'H', 'H', 'H', 'H', 'L', 'L', 'L', 'H', 'H', 'L', 'H', 'H', 'H', 'L', 'L', 'L', 'L']\n",
            "\n",
            "Probabilidad (Forward): 0.0000000000\n",
            "--------------------------------------------------\n",
            "\n",
            "=== Secuencia aleatoria (30 nt) ===\n",
            "Secuencia : GTTTGAGTAGTAGGGGCAAGGGGGACACGC\n",
            "Índices   : [2, 3, 3, 3, 2, 0, 2, 3, 0, 2, 3, 0, 2, 2, 2, 2, 1, 0, 0, 2, 2, 2, 2, 2, 0, 1, 0, 1, 2, 1]\n",
            "Ruta      : ['H', 'L', 'L', 'L', 'L', 'L', 'L', 'L', 'L', 'L', 'L', 'L', 'H', 'H', 'H', 'H', 'H', 'L', 'L', 'H', 'H', 'H', 'H', 'H', 'L', 'L', 'L', 'H', 'H', 'H']\n",
            "\n",
            "Prob (Forward): 7.731190157904031e-19\n"
          ]
        },
        {
          "output_type": "display_data",
          "data": {
            "text/plain": [
              "<Figure size 1000x250 with 1 Axes>"
            ],
            "image/png": "[encoded data removed]"
          },
          "metadata": {}
        },
        {
          "output_type": "display_data",
          "data": {
            "text/plain": [
              "<Figure size 800x400 with 1 Axes>"
            ],
            "image/png": "[encoded data removed]"
          },
          "metadata": {}
        },
        {
          "output_type": "stream",
          "name": "stdout",
          "text": [
            "\n",
            "=== Benchmark (reps = 1000) ===\n",
            "Tiempo total evaluar(): 0.0337 s    (promedio 0.0337 ms/llamada)\n",
            "Tiempo total reconocer(): 0.0348 s   (promedio 0.0348 ms/llamada)\n"
          ]
        }
      ]
    },
    {
      "cell_type": "code",
      "source": [
        "import time\n",
        "import hmm  # tu librería dinámica en C++\n",
        "import numpy as np\n",
        "\n",
        "# === Datos de prueba (50,000 bases) ===\n",
        "seq = np.random.choice([0, 1, 2, 3], size=50_000).tolist()\n",
        "\n",
        "# === Versión C++ (usa tu librería) ===\n",
        "start = time.perf_counter()\n",
        "hmm.evaluar(seq)  # una sola vez, secuencia larga\n",
        "t_cpp = time.perf_counter() - start\n",
        "\n",
        "# === Versión Python (naive Forward) ===\n",
        "PI = [0.5, 0.5]\n",
        "A = [[0.5, 0.5],\n",
        "     [0.4, 0.6]]\n",
        "B = [[0.2, 0.3, 0.3, 0.2],\n",
        "     [0.3, 0.2, 0.2, 0.3]]\n",
        "\n",
        "def forward_py(seq):\n",
        "    T = len(seq)\n",
        "    N = 2\n",
        "    alpha = [[0]*N for _ in range(T)]\n",
        "\n",
        "    # inicialización\n",
        "    for j in range(N):\n",
        "        alpha[0][j] = PI[j] * B[j][seq[0]]\n",
        "\n",
        "    # recursión\n",
        "    for t in range(1, T):\n",
        "        for j in range(N):\n",
        "            suma = 0\n",
        "            for i in range(N):\n",
        "                suma += alpha[t-1][i] * A[i][j]\n",
        "            alpha[t][j] = suma * B[j][seq[t]]\n",
        "\n",
        "    # terminación\n",
        "    return sum(alpha[T-1])\n",
        "\n",
        "# medir tiempo Python\n",
        "start = time.perf_counter()\n",
        "forward_py(seq)  # una sola vez, secuencia larga\n",
        "t_py = time.perf_counter() - start\n",
        "\n",
        "# === Resultados ===\n",
        "print(\"Tiempo con librería dinámica C++:\", t_cpp, \"s\")\n",
        "print(\"Tiempo base Python:\", t_py, \"s\")\n",
        "print(\"C++ es\", t_py/t_cpp, \"veces más rápido\")"
      ],
      "metadata": {
        "colab": {
          "base_uri": "https://localhost:8080/"
        },
        "id": "axvzINu8Eycl",
        "outputId": "80879af2-0891-4f2b-9542-0be252ed2071"
      },
      "execution_count": 16,
      "outputs": [
        {
          "output_type": "stream",
          "name": "stdout",
          "text": [
            "Tiempo con librería dinámica C++: 0.042720293999991554 s\n",
            "Tiempo base Python: 0.06758591300001626 s\n",
            "C++ es 1.582056364125903 veces más rápido\n"
          ]
        }
      ]
    },
    {
      "cell_type": "code",
      "source": [
        "import time\n",
        "import hmm  # tu librería dinámica en C++\n",
        "import numpy as np\n",
        "import math\n",
        "\n",
        "def forward_py(seq, PI, A, B, N):\n",
        "    T = len(seq)\n",
        "    alpha = [[0]*N for _ in range(T)]\n",
        "\n",
        "    # inicialización\n",
        "    for j in range(N):\n",
        "        alpha[0][j] = PI[j] * B[j][seq[0]]\n",
        "\n",
        "    # recursión\n",
        "    for t in range(1, T):\n",
        "        for j in range(N):\n",
        "            suma = 0\n",
        "            for i in range(N):\n",
        "                suma += alpha[t-1][i] * A[i][j]\n",
        "            alpha[t][j] = suma * B[j][seq[t]]\n",
        "\n",
        "    # terminación\n",
        "    return sum(alpha[T-1])\n",
        "\n",
        "\n",
        "# === Experimentos ===\n",
        "seq_lengths = [200, 2_000, 20_000, 50_000]\n",
        "states = [2, 5, 10]\n",
        "\n",
        "for N in states:\n",
        "    print(f\"\\n=== {N} estados ===\")\n",
        "    # distribuciones iniciales y matrices aleatorias normalizadas\n",
        "    PI = np.random.dirichlet(np.ones(N)).tolist()\n",
        "    A = np.random.dirichlet(np.ones(N), size=N).tolist()\n",
        "    B = np.random.dirichlet(np.ones(4), size=N).tolist()\n",
        "\n",
        "    for T in seq_lengths:\n",
        "        seq = np.random.choice([0,1,2,3], size=T).tolist()\n",
        "\n",
        "        # --- C++ ---\n",
        "        start = time.perf_counter()\n",
        "        hmm.evaluar(seq)   # tu forward en C++\n",
        "        t_cpp = time.perf_counter() - start\n",
        "\n",
        "        # --- Python ---\n",
        "        start = time.perf_counter()\n",
        "        forward_py(seq, PI, A, B, N)\n",
        "        t_py = time.perf_counter() - start\n",
        "\n",
        "        print(f\"Tamaño={T:>6} | C++: {t_cpp:.4f}s | Py: {t_py:.4f}s | Speedup: {t_py/t_cpp:.2f}x\")\n"
      ],
      "metadata": {
        "colab": {
          "base_uri": "https://localhost:8080/"
        },
        "id": "SbXotNFIshrd",
        "outputId": "3d58ac77-3b1b-42f2-e269-20f14b3d767c"
      },
      "execution_count": 17,
      "outputs": [
        {
          "output_type": "stream",
          "name": "stdout",
          "text": [
            "\n",
            "=== 2 estados ===\n",
            "Tamaño=   200 | C++: 0.0006s | Py: 0.0011s | Speedup: 1.84x\n",
            "Tamaño=  2000 | C++: 0.0018s | Py: 0.0033s | Speedup: 1.85x\n",
            "Tamaño= 20000 | C++: 0.0168s | Py: 0.0215s | Speedup: 1.28x\n",
            "Tamaño= 50000 | C++: 0.0371s | Py: 0.1117s | Speedup: 3.01x\n",
            "\n",
            "=== 5 estados ===\n",
            "Tamaño=   200 | C++: 0.0002s | Py: 0.0006s | Speedup: 3.24x\n",
            "Tamaño=  2000 | C++: 0.0016s | Py: 0.0071s | Speedup: 4.47x\n",
            "Tamaño= 20000 | C++: 0.0164s | Py: 0.0710s | Speedup: 4.32x\n",
            "Tamaño= 50000 | C++: 0.0379s | Py: 0.2325s | Speedup: 6.13x\n",
            "\n",
            "=== 10 estados ===\n",
            "Tamaño=   200 | C++: 0.0002s | Py: 0.0019s | Speedup: 9.47x\n",
            "Tamaño=  2000 | C++: 0.0018s | Py: 0.0218s | Speedup: 12.43x\n",
            "Tamaño= 20000 | C++: 0.0160s | Py: 0.2394s | Speedup: 15.00x\n",
            "Tamaño= 50000 | C++: 0.0386s | Py: 0.5942s | Speedup: 15.38x\n"
          ]
        }
      ]
    }
  ]
}